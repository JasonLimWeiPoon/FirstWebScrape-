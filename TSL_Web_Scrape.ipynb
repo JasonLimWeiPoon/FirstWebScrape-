{
 "cells": [
  {
   "cell_type": "code",
   "execution_count": 4,
   "metadata": {},
   "outputs": [],
   "source": [
    "import pandas as pd\n",
    "import numpy as np \n",
    "import matplotlib as plt\n",
    "import seaborn as sns \n",
    "%matplotlib inline "
   ]
  },
  {
   "cell_type": "code",
   "execution_count": 5,
   "metadata": {},
   "outputs": [
    {
     "name": "stdout",
     "output_type": "stream",
     "text": [
      "['0001 Pin Xiang Hainanese Chicken Rice', '001 Cafe', '163 Ikan Bakar BBQ ', '1A Crispy Puffs', '25 Degrees Burger, Wine & Liquor Bar', '3 Treasures Vegetarian', '31 Heng Heng BBQ', '365 Hummus & Food', '38 Barbeque Seafood', '49 Seats', '511 Newton BBQ', '618 Seafood', '7 Wonders Seafood / Mala Hotpot', '73 Xiang Ji Chicken Rice', '8 Degrees Taiwanese Bistro', '8 Korean BBQ', '805 Seafood Kitchen', '8385 Cafe', '85 Redhill Teochew Fishball Noodles - Central', '85 Redhill Teochew Fishball Noodles - East ']\n"
     ]
    }
   ],
   "source": [
    "from urllib.request import urlopen \n",
    "from bs4 import BeautifulSoup\n",
    "import requests as r\n",
    "\n",
    "x = 0\n",
    "url = \"https://thesmartlocal.com/delivery?page=\" + str(x+1)\n",
    "\n",
    "content = r.get(url)\n",
    "\n",
    "soup = BeautifulSoup(content.text, 'html.parser')\n",
    "names = soup.find_all('h5')\n",
    "names = [i.text for i in names]\n",
    "Restaurant_list = []\n",
    "   \n",
    "restaurants = pd.Series(names[0:len(names)])\n",
    "for restaurant in restaurants:\n",
    "    if restaurant != \"Social Icons\":\n",
    "        Restaurant_list.append(restaurant)\n",
    "\n",
    "print(Restaurant_list)"
   ]
  },
  {
   "cell_type": "code",
   "execution_count": 6,
   "metadata": {},
   "outputs": [
    {
     "name": "stdout",
     "output_type": "stream",
     "text": [
      "['0001 Pin Xiang Hainanese Chicken Rice', '001 Cafe', '163 Ikan Bakar BBQ ', '1A Crispy Puffs', '25 Degrees Burger, Wine & Liquor Bar', '3 Treasures Vegetarian', '31 Heng Heng BBQ', '365 Hummus & Food', '38 Barbeque Seafood', '49 Seats', '511 Newton BBQ', '618 Seafood', '7 Wonders Seafood / Mala Hotpot', '73 Xiang Ji Chicken Rice', '8 Degrees Taiwanese Bistro', '8 Korean BBQ', '805 Seafood Kitchen', '8385 Cafe', '85 Redhill Teochew Fishball Noodles - Central', '85 Redhill Teochew Fishball Noodles - East ']\n"
     ]
    }
   ],
   "source": [
    "def get_restaurant(x):\n",
    "     \n",
    "    url = \"https://thesmartlocal.com/delivery?page=\" + str(x+1)\n",
    "\n",
    "    content = r.get(url)\n",
    "\n",
    "    soup = BeautifulSoup(content.text, 'html.parser')\n",
    "    names = soup.find_all('h5')\n",
    "    names = [i.text for i in names]\n",
    "    Restaurant_list = []\n",
    "   \n",
    "    restaurants = pd.Series(names[0:len(names)])\n",
    "    for restaurant in restaurants:\n",
    "        if restaurant != \"Social Icons\":\n",
    "            Restaurant_list.append(restaurant)\n",
    "\n",
    "    print(Restaurant_list)\n",
    "\n",
    "get_restaurant(0)"
   ]
  },
  {
   "cell_type": "code",
   "execution_count": null,
   "metadata": {},
   "outputs": [],
   "source": [
    "x = 0\n",
    "while x <= 40:\n",
    "    get_restaurant(x)\n",
    "    x += 1"
   ]
  },
  {
   "cell_type": "code",
   "execution_count": null,
   "metadata": {},
   "outputs": [],
   "source": [
    "def get_all_restaurant(start, end):\n",
    "    Restaurant_List_All = []\n",
    "    for x in range (start, end + 1):       \n",
    "        url = \"https://thesmartlocal.com/delivery?page=\" + str(x)\n",
    "\n",
    "        content = r.get(url)\n",
    "\n",
    "        soup = BeautifulSoup(content.text, 'html.parser')\n",
    "        names = soup.find_all('h5')\n",
    "        names = [i.text for i in names]\n",
    "        \n",
    "   \n",
    "        restaurants = pd.Series(names[0:len(names)])\n",
    "        for restaurant in restaurants:\n",
    "            if restaurant != \"Social Icons\":\n",
    "                Restaurant_List_All.append(restaurant)\n",
    "\n",
    "    return(Restaurant_List_All)\n",
    "\n",
    "print(get_all_restaurant(1, 41))\n",
    "\n",
    "\n",
    "List1 = get_all_restaurant(1, 41)\n",
    "df = pd.DataFrame(List1)\n",
    "df.to_csv('restaurant.csv', index=False)"
   ]
  },
  {
   "cell_type": "code",
   "execution_count": null,
   "metadata": {},
   "outputs": [],
   "source": [
    "import re \n",
    "\n",
    "x = 0\n",
    "url = \"https://thesmartlocal.com/delivery?page=\" + str(x+1)\n",
    "\n",
    "content = r.get(url)\n",
    "\n",
    "soup = BeautifulSoup(content.text, 'lxml')\n",
    "individual_cuisine = soup.find_all(r'p', {'class': 'mb-1'}, re.MULTILINE)\n",
    "individual_cuisine = [i.text for i in individual_cuisine]\n",
    "cuisine_list = []\n",
    "   \n",
    "cuisines = pd.Series(individual_cuisine[0:len(individual_cuisine)])\n",
    "for cuisine in cuisines:\n",
    "       cuisine_list.append(cuisine.strip(\"\\n\"))\n",
    "\n",
    "print(cuisine_list)"
   ]
  },
  {
   "cell_type": "code",
   "execution_count": null,
   "metadata": {},
   "outputs": [],
   "source": [
    "def get_cuisine(start, end):\n",
    "    full_cuisine_list = []\n",
    "    for x in range (start, end +1):\n",
    "        url = \"https://thesmartlocal.com/delivery?page=\" + str(x)\n",
    "\n",
    "        content = r.get(url)\n",
    "\n",
    "        soup = BeautifulSoup(content.text, 'html.parser')\n",
    "        cuisines = soup.find_all(r'p', {'class': 'mb-1'},re.MULTILINE)\n",
    "        cuisines = [i.text for i in cuisines]\n",
    "        cuisines = pd.Series(cuisines[0:811])\n",
    "        for cuisine in cuisines:\n",
    "               full_cuisine_list.append(cuisine.strip(\"\\n\"))\n",
    "\n",
    "    return(full_cuisine_list)"
   ]
  },
  {
   "cell_type": "code",
   "execution_count": null,
   "metadata": {},
   "outputs": [],
   "source": [
    "List2 = get_cuisine(1,41)\n",
    "df1 = pd.DataFrame(List2)\n",
    "df1.to_csv('restaurant_cuisine.csv', index=False)\n"
   ]
  }
 ],
 "metadata": {
  "kernelspec": {
   "display_name": "Python 3",
   "language": "python",
   "name": "python3"
  },
  "language_info": {
   "codemirror_mode": {
    "name": "ipython",
    "version": 3
   },
   "file_extension": ".py",
   "mimetype": "text/x-python",
   "name": "python",
   "nbconvert_exporter": "python",
   "pygments_lexer": "ipython3",
   "version": "3.7.6"
  }
 },
 "nbformat": 4,
 "nbformat_minor": 4
}
